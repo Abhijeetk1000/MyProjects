{
  "nbformat": 4,
  "nbformat_minor": 0,
  "metadata": {
    "colab": {
      "name": "Task1.ipynb",
      "provenance": [],
      "collapsed_sections": [],
      "authorship_tag": "ABX9TyO/YptpG1nRBILpDHNwCDBm"
    },
    "kernelspec": {
      "name": "python3",
      "display_name": "Python 3"
    },
    "language_info": {
      "name": "python"
    }
  },
  "cells": [
    {
      "cell_type": "code",
      "source": [
        "#ASSIGNMENT-01 : Ticket booking \n",
        "'''\n",
        "1-Register the user and store names and password in a list\n",
        "2-Allow the user to login if the user name exists and password matches\n",
        "3-Get DoJ,from and to store in a dictionary format\n",
        "4-Display the data of the person (sample is name)\n",
        "'''\n",
        "\n",
        "#Raw Data\n",
        "L1=[[\"Admin\",\"Pwd\"], [\"Agent\", \"Pass\"]] \n",
        "d1 = {'Admin': ['04/04/2022', 'Pune', 'Mumbai'], 'Agent': ['05/05/2022', 'Delhi', 'Chennai'] }\n",
        "\n",
        "#Login\n",
        "def Login():\n",
        "  L3=[]\n",
        "  name=input(\"Enter Name: \")\n",
        "  L3.append(name)\n",
        "  pwd=input(\"Enter Password: \")\n",
        "  L3.append(pwd)\n",
        "\n",
        "  if L3 in L1:\n",
        "    print(\"Successful Login !!\")\n",
        "    n=int(input(\"Enter 1.To Plan a Journey   2.Display Journey Details: \"))\n",
        "    if n==1:\n",
        "        Journey(name)\n",
        "    elif n==2:\n",
        "        Display(name)\n",
        "    else:\n",
        "        print(\"Wrong Choice !!\")\n",
        "  \n",
        "  else:\n",
        "    print(\"Invalid Username or Password\")\n",
        "\n",
        "#Registration\n",
        "def Register():\n",
        "  L2=[]\n",
        "  name=input(\"Enter Name : \")\n",
        "  L2.append(name)\n",
        "  pwd=input(\"Enter Password : \")\n",
        "  L2.append(pwd)\n",
        "  L1.append(L2)\n",
        "  #print(L1)\n",
        "  print(\"Successfully Registered !!\\n Please Login Again\")\n",
        "\n",
        "#Journey Details\n",
        "def Journey(name):\n",
        "  L4=[]\n",
        "  date=input(\"Date: \")\n",
        "  start=input(\"Start : \")\n",
        "  end=input(\"End : \")\n",
        "\n",
        "  L4.append(date)\n",
        "  L4.append(start)\n",
        "  L4.append(end)\n",
        "\n",
        "  print(L4)\n",
        "  d1[name] = L4\n",
        "  #print(d1)\n",
        "\n",
        "#Display Journey Details\n",
        "def Display(name):\n",
        "    if name in d1:\n",
        "        print(name,\"Travel Details are :\")\n",
        "        print(d1[name])\n",
        "        print(\"Date: {}, Start: {}, End: {}\".format(*d1[name]))\n",
        "    else:\n",
        "        print(\"Journey not planned yet !!\")\n",
        "\n",
        "#--------------------------------------------------------------------\n",
        "#Main Function       \n",
        "wh=8\n",
        "while wh!=0:\n",
        "  print(\"\\n1.Login  2.Register  0.Exit\")\n",
        "  wh=int(input(\"Enter Choice : \"))\n",
        "  if wh==1:\n",
        "    Login()\n",
        "  elif wh==2:\n",
        "    Register()\n",
        "  else:\n",
        "    print(\"Wrong Choice !!\")\n",
        "    "
      ],
      "metadata": {
        "colab": {
          "base_uri": "https://localhost:8080/"
        },
        "id": "BjkQDH2GtYjR",
        "outputId": "27779a6e-f83c-4e7d-e4f6-7ed9700fa91c"
      },
      "execution_count": 9,
      "outputs": [
        {
          "output_type": "stream",
          "name": "stdout",
          "text": [
            "\n",
            "1.Login  2.Register  0.Exit\n",
            "Enter Choice : 1\n",
            "Enter Name: Admin\n",
            "Enter Password: Pwd\n",
            "Successful Login !!\n",
            "Enter 1.To Plan a Journey   2.Display Journey Details: 2\n",
            "Admin Travel Details are :\n",
            "['04/04/2022', 'Pune', 'Mumbai']\n",
            "Date: 04/04/2022, Start: Pune, End: Mumbai\n",
            "\n",
            "1.Login  2.Register  0.Exit\n",
            "Enter Choice : 0\n",
            "Wrong Choice !!\n"
          ]
        }
      ]
    },
    {
      "cell_type": "code",
      "source": [
        "d1 = {'Admin': ['04/04/2022', 'Pune', 'Mumbai'], 'Agent': ['05/05/2022', 'Delhi', 'Chennai'] }\n",
        "\n",
        "print(\"Date {}, Start: {}, End: {}\".format(*d1[\"Admin\"]))"
      ],
      "metadata": {
        "colab": {
          "base_uri": "https://localhost:8080/"
        },
        "id": "1H9Y9wwEb6Vh",
        "outputId": "0f0e3c84-9073-48c7-8bcb-6e9073e17a91"
      },
      "execution_count": 8,
      "outputs": [
        {
          "output_type": "stream",
          "name": "stdout",
          "text": [
            "Date 04/04/2022, Start: Pune, End: Mumbai\n"
          ]
        }
      ]
    }
  ]
}