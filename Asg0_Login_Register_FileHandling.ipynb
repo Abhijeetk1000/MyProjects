{
  "nbformat": 4,
  "nbformat_minor": 0,
  "metadata": {
    "colab": {
      "name": "Asg0_Login/Register_FileHandling.ipynb",
      "provenance": [],
      "authorship_tag": "ABX9TyPtIAAmB7UM7GVeu6GHqwKz"
    },
    "kernelspec": {
      "name": "python3",
      "display_name": "Python 3"
    },
    "language_info": {
      "name": "python"
    }
  },
  "cells": [
    {
      "cell_type": "markdown",
      "source": [
        "**Assignment 0:**\n",
        "\n",
        "**Registration and Login system with Python, file handling**\n",
        "\n",
        "**STAGE -- 1 \n",
        "Registration**\n",
        "\n",
        "When the user chooses to Register\n",
        "\n",
        "\n",
        "1.   email/username should have \"@\" and followed by \".\"\n",
        "     \n",
        "     eg:- \n",
        "      sherlock@gmail.com or nothing@yahoo.in\n",
        "\n",
        "\n",
        "2.   it should not be like this \n",
        "       \n",
        "       eg:- @gmail.com\n",
        "      \n",
        "      there should not be any \".\" immediate next to \"@\"\n",
        "      my@.in\n",
        "      \n",
        "      It should not start with special characters and numbers\n",
        "\n",
        "\n",
        "3.   password (5 < password length > 16)\n",
        "              \n",
        "      *   Must have minimum one special character\n",
        "      *   one digit\n",
        "      *   one uppercase\n",
        "      *   one lowercase character \n",
        "\n",
        "\n",
        "\n",
        "**Stage 2**\n",
        "  \n",
        "  Once the username and password are validated, store those values in a file\n",
        "\n",
        "\n",
        "**Stage 3**\n",
        "**Login**\n",
        " \n",
        "*   When the user chooses to Login, check whether his/her credentials exist in the file or not based on the user input \n",
        "*   If doesn’t exist ask them to go for Registration or \n",
        "\n",
        "*   If they have chosen forget password you should be able to retrieve their original password based on their username provided in the user input\n",
        "*   If nothing matches in your file you should ask them to Register\n",
        "\n",
        "\n",
        "\n",
        "\n",
        "\n",
        "\n"
      ],
      "metadata": {
        "id": "AdTu68bseesK"
      }
    },
    {
      "cell_type": "code",
      "execution_count": 1,
      "metadata": {
        "colab": {
          "base_uri": "https://localhost:8080/"
        },
        "id": "jhsDZgTleE_8",
        "outputId": "02234004-af87-4aba-f57f-d432ceb47fd0"
      },
      "outputs": [
        {
          "output_type": "stream",
          "name": "stdout",
          "text": [
            "Collecting dnspython\n",
            "  Downloading dnspython-2.2.0-py3-none-any.whl (266 kB)\n",
            "\u001b[?25l\r\u001b[K     |█▎                              | 10 kB 20.5 MB/s eta 0:00:01\r\u001b[K     |██▌                             | 20 kB 24.8 MB/s eta 0:00:01\r\u001b[K     |███▊                            | 30 kB 29.8 MB/s eta 0:00:01\r\u001b[K     |█████                           | 40 kB 29.0 MB/s eta 0:00:01\r\u001b[K     |██████▏                         | 51 kB 22.1 MB/s eta 0:00:01\r\u001b[K     |███████▍                        | 61 kB 24.9 MB/s eta 0:00:01\r\u001b[K     |████████▋                       | 71 kB 24.5 MB/s eta 0:00:01\r\u001b[K     |█████████▉                      | 81 kB 24.9 MB/s eta 0:00:01\r\u001b[K     |███████████                     | 92 kB 26.8 MB/s eta 0:00:01\r\u001b[K     |████████████▎                   | 102 kB 26.6 MB/s eta 0:00:01\r\u001b[K     |█████████████▌                  | 112 kB 26.6 MB/s eta 0:00:01\r\u001b[K     |██████████████▊                 | 122 kB 26.6 MB/s eta 0:00:01\r\u001b[K     |████████████████                | 133 kB 26.6 MB/s eta 0:00:01\r\u001b[K     |█████████████████▏              | 143 kB 26.6 MB/s eta 0:00:01\r\u001b[K     |██████████████████▍             | 153 kB 26.6 MB/s eta 0:00:01\r\u001b[K     |███████████████████▋            | 163 kB 26.6 MB/s eta 0:00:01\r\u001b[K     |████████████████████▉           | 174 kB 26.6 MB/s eta 0:00:01\r\u001b[K     |██████████████████████          | 184 kB 26.6 MB/s eta 0:00:01\r\u001b[K     |███████████████████████▎        | 194 kB 26.6 MB/s eta 0:00:01\r\u001b[K     |████████████████████████▌       | 204 kB 26.6 MB/s eta 0:00:01\r\u001b[K     |█████████████████████████▊      | 215 kB 26.6 MB/s eta 0:00:01\r\u001b[K     |███████████████████████████     | 225 kB 26.6 MB/s eta 0:00:01\r\u001b[K     |████████████████████████████▎   | 235 kB 26.6 MB/s eta 0:00:01\r\u001b[K     |█████████████████████████████▌  | 245 kB 26.6 MB/s eta 0:00:01\r\u001b[K     |██████████████████████████████▊ | 256 kB 26.6 MB/s eta 0:00:01\r\u001b[K     |████████████████████████████████| 266 kB 26.6 MB/s eta 0:00:01\r\u001b[K     |████████████████████████████████| 266 kB 26.6 MB/s \n",
            "\u001b[?25hInstalling collected packages: dnspython\n",
            "Successfully installed dnspython-2.2.0\n",
            "Requirement already satisfied: pymongo[srv] in /usr/local/lib/python3.7/dist-packages (4.0.1)\n",
            "Requirement already satisfied: dnspython<3.0.0,>=1.16.0 in /usr/local/lib/python3.7/dist-packages (from pymongo[srv]) (2.2.0)\n"
          ]
        }
      ],
      "source": [
        "#1.Install DNS Python & PyMongo\n",
        "\n",
        "!pip install dnspython\n",
        "!pip install pymongo[srv]"
      ]
    },
    {
      "cell_type": "code",
      "source": [
        ""
      ],
      "metadata": {
        "id": "HmWMYJ4sg_7t"
      },
      "execution_count": null,
      "outputs": []
    }
  ]
}