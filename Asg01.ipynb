{
  "nbformat": 4,
  "nbformat_minor": 0,
  "metadata": {
    "colab": {
      "name": "Asg01.ipynb",
      "provenance": [],
      "authorship_tag": "ABX9TyOPqFnc84zQjgD7Yqi4OP3A"
    },
    "kernelspec": {
      "name": "python3",
      "display_name": "Python 3"
    },
    "language_info": {
      "name": "python"
    }
  },
  "cells": [
    {
      "cell_type": "code",
      "execution_count": null,
      "metadata": {
        "id": "Rtv51bty25Iy"
      },
      "outputs": [],
      "source": [
        "#ASSIGNMENT-01 : Ticket booking backend \n",
        "'''\n",
        "1-Register the user and store names and password in a list\n",
        "2-Allow the user to login if the user name exists and password matches\n",
        "3-Get DoJ,from and to store in a dictionary format\n",
        "4-Display the data of the person (sample is name)\n",
        "'''\n",
        "#Raw Data\n",
        "L1=[[\"Admin\",\"Pwd\"], [\"Agent\", \"Pass\"]] \n",
        "d1 = {'Admin': ['04/04/2022', 'Pune', 'Mumbai'], 'Agent': ['05/05/2022', 'Delhi', 'Chennai'] }\n",
        "\n",
        "#Login\n",
        "def Login():\n",
        "  L3=[]\n",
        "  name=input(\"Enter Name: \")\n",
        "  L3.append(name)\n",
        "  pwd=input(\"Enter Password: \")\n",
        "  L3.append(pwd)\n",
        "\n",
        "  if L3 in L1:\n",
        "    print(\"Successful Login !!\")\n",
        "    n=int(input(\"Enter 1.To Plan a Journey   2.Display Journey Details: \"))\n",
        "    if n==1:\n",
        "        Journey(name)\n",
        "    elif n==2:\n",
        "        Display(name)\n",
        "    else:\n",
        "        print(\"Wrong Choice !!\")\n",
        "  \n",
        "  else:\n",
        "    print(\"Invalid Username or Password\")\n",
        "\n",
        "#Registration\n",
        "def Register():\n",
        "  L2=[]\n",
        "  name=input(\"Enter Name : \")\n",
        "  L2.append(name)\n",
        "  pwd=input(\"Enter Password : \")\n",
        "  L2.append(pwd)\n",
        "  L1.append(L2)\n",
        "  #print(L1)\n",
        "  print(\"Successfully Registered !!\\n Please Login Again\")\n",
        "\n",
        "#Journey Details\n",
        "def Journey(name):\n",
        "  L4=[]\n",
        "  date=input(\"Date: \")\n",
        "  start=input(\"Start : \")\n",
        "  end=input(\"End : \")\n",
        "\n",
        "  L4.append(date)\n",
        "  L4.append(start)\n",
        "  L4.append(end)\n",
        "\n",
        "  print(L4)\n",
        "  d1[name] = L4\n",
        "  #print(d1)\n",
        "\n",
        "#Display Journey Details\n",
        "def Display(name):\n",
        "    if name in d1:\n",
        "        print(name,\"Travel Details are :\")\n",
        "        print(d1[name])\n",
        "    else:\n",
        "        print(\"Journey not planned yet !!\")\n",
        "\n",
        "\n",
        "\n",
        "\n"
      ]
    }
  ]
}