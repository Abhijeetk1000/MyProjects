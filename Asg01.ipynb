{
  "nbformat": 4,
  "nbformat_minor": 0,
  "metadata": {
    "colab": {
      "name": "Untitled1.ipynb",
      "provenance": [],
      "authorship_tag": "ABX9TyMANCGsJ98lFkl46GnCGO9c"
    },
    "kernelspec": {
      "name": "python3",
      "display_name": "Python 3"
    },
    "language_info": {
      "name": "python"
    }
  },
  "cells": [
    {
      "cell_type": "code",
      "execution_count": null,
      "metadata": {
        "id": "Rtv51bty25Iy"
      },
      "outputs": [],
      "source": [
        "#ASSIGNMENT-01 : Ticket booking backend \n",
        "'''\n",
        "1-Register the user and store names and password in a list\n",
        "2-Allow the user to login if the user name exists and password matches\n",
        "3-Get DoJ,from and to store in a dictionary format\n",
        "4-Display the data of the person (sample is name)\n",
        "'''\n"
      ]
    }
  ]
}