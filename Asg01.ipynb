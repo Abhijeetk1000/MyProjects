{
  "nbformat": 4,
  "nbformat_minor": 0,
  "metadata": {
    "colab": {
      "name": "Untitled1.ipynb",
      "provenance": [],
      "authorship_tag": "ABX9TyOOAjORLkArSSo2nFBSPIDP"
    },
    "kernelspec": {
      "name": "python3",
      "display_name": "Python 3"
    },
    "language_info": {
      "name": "python"
    }
  },
  "cells": [
    {
      "cell_type": "code",
      "execution_count": null,
      "metadata": {
        "id": "Rtv51bty25Iy"
      },
      "outputs": [],
      "source": [
        "#ASSIGNMENT-01 : Ticket booking backend \n",
        "'''\n",
        "1-Register the user and store names and password in a list\n",
        "2-Allow the user to login if the user name exists and password matches\n",
        "3-Get DoJ,from and to store in a dictionary format\n",
        "4-Display the data of the person (sample is name)\n",
        "'''\n",
        "#Raw Data\n",
        "L1=[[\"Admin\",\"Pwd\"], [\"Agent\", \"Pass\"]] \n",
        "d1 = {'Admin': ['04/04/2022', 'Pune', 'Mumbai'], 'Agent': ['05/05/2022', 'Delhi', 'Chennai'] }\n",
        "\n",
        "#Login\n",
        "def Login():\n",
        "  L3=[]\n",
        "  name=input(\"Enter Name: \")\n",
        "  L3.append(name)\n",
        "  pwd=input(\"Enter Password: \")\n",
        "  L3.append(pwd)\n",
        "\n",
        "  if L3 in L1:\n",
        "    print(\"Successful Login !!\")\n",
        "    n=int(input(\"Enter 1.To Plan a Journey   2.Display Journey Details: \"))\n",
        "    if n==1:\n",
        "        Journey(name)\n",
        "    elif n==2:\n",
        "        Display(name)\n",
        "    else:\n",
        "        print(\"Wrong Choice !!\")\n",
        "  \n",
        "  else:\n",
        "    print(\"Invalid Username or Password\")\n",
        "\n"
      ]
    }
  ]
}